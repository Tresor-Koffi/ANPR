{
  "nbformat": 4,
  "nbformat_minor": 0,
  "metadata": {
    "accelerator": "GPU",
    "colab": {
      "name": "Copy of Welcome To Colaboratory",
      "provenance": [],
      "collapsed_sections": [],
      "include_colab_link": true
    },
    "kernelspec": {
      "display_name": "Python 3",
      "name": "python3"
    }
  },
  "cells": [
    {
      "cell_type": "markdown",
      "metadata": {
        "id": "view-in-github",
        "colab_type": "text"
      },
      "source": [
        "<a href=\"https://colab.research.google.com/github/Tresor-Koffi/ANPR/blob/main/mage%20Captioning.ipynb\" target=\"_parent\"><img src=\"https://colab.research.google.com/assets/colab-badge.svg\" alt=\"Open In Colab\"/></a>"
      ]
    },
    {
      "cell_type": "markdown",
      "metadata": {
        "id": "5fCEDCU_qrC0"
      },
      "source": [
        "# **Image Captioning**\n",
        "\n",
        "**Author**: *TRESOR*\n",
        "\n",
        "\n",
        "**Date created**: *2021/11/08*\n",
        "\n",
        "**Description**: *Implementation of image captioning model using a CNN and a Transformer.*"
      ]
    },
    {
      "cell_type": "markdown",
      "metadata": {
        "id": "GJBs_flRovLc"
      },
      "source": [
        "##**Environmental set up** "
      ]
    },
    {
      "cell_type": "code",
      "metadata": {
        "colab": {
          "background_save": true,
          "base_uri": "https://localhost:8080/"
        },
        "id": "gJr_9dXGpJ05",
        "outputId": "788565be-7eca-42a5-b541-3f61f537b13a"
      },
      "source": [
        "!pip install transformers datasets\n",
        "!pip install -qq fastai==2.5.2\n",
        "!pip install -q transformers\n",
        "!pip install -q unpackai==0.1.8.10\n",
        "!pip install -q torch\n",
        "!pip install git+https://github.com/huggingface/transformers.git\n"
      ],
      "execution_count": null,
      "outputs": [
        {
          "name": "stdout",
          "output_type": "stream",
          "text": [
            "Collecting transformers\n",
            "  Downloading transformers-4.12.4-py3-none-any.whl (3.1 MB)\n",
            "\u001b[K     |████████████████████████████████| 3.1 MB 5.2 MB/s \n",
            "\u001b[?25hCollecting datasets\n",
            "  Downloading datasets-1.15.1-py3-none-any.whl (290 kB)\n",
            "\u001b[K     |████████████████████████████████| 290 kB 44.2 MB/s \n",
            "\u001b[?25hRequirement already satisfied: requests in /usr/local/lib/python3.7/dist-packages (from transformers) (2.23.0)\n",
            "Requirement already satisfied: importlib-metadata in /usr/local/lib/python3.7/dist-packages (from transformers) (4.8.2)\n",
            "Collecting huggingface-hub<1.0,>=0.1.0\n",
            "  Downloading huggingface_hub-0.1.2-py3-none-any.whl (59 kB)\n",
            "\u001b[K     |████████████████████████████████| 59 kB 7.1 MB/s \n",
            "\u001b[?25hCollecting tokenizers<0.11,>=0.10.1\n",
            "  Downloading tokenizers-0.10.3-cp37-cp37m-manylinux_2_5_x86_64.manylinux1_x86_64.manylinux_2_12_x86_64.manylinux2010_x86_64.whl (3.3 MB)\n",
            "\u001b[K     |████████████████████████████████| 3.3 MB 33.1 MB/s \n",
            "\u001b[?25hRequirement already satisfied: filelock in /usr/local/lib/python3.7/dist-packages (from transformers) (3.3.2)\n",
            "Collecting pyyaml>=5.1\n",
            "  Downloading PyYAML-6.0-cp37-cp37m-manylinux_2_5_x86_64.manylinux1_x86_64.manylinux_2_12_x86_64.manylinux2010_x86_64.whl (596 kB)\n",
            "\u001b[K     |████████████████████████████████| 596 kB 35.4 MB/s \n",
            "\u001b[?25hRequirement already satisfied: regex!=2019.12.17 in /usr/local/lib/python3.7/dist-packages (from transformers) (2019.12.20)\n",
            "Collecting sacremoses\n",
            "  Downloading sacremoses-0.0.46-py3-none-any.whl (895 kB)\n",
            "\u001b[K     |████████████████████████████████| 895 kB 38.9 MB/s \n",
            "\u001b[?25hRequirement already satisfied: tqdm>=4.27 in /usr/local/lib/python3.7/dist-packages (from transformers) (4.62.3)\n",
            "Requirement already satisfied: packaging>=20.0 in /usr/local/lib/python3.7/dist-packages (from transformers) (21.2)\n",
            "Requirement already satisfied: numpy>=1.17 in /usr/local/lib/python3.7/dist-packages (from transformers) (1.19.5)\n",
            "Requirement already satisfied: typing-extensions>=3.7.4.3 in /usr/local/lib/python3.7/dist-packages (from huggingface-hub<1.0,>=0.1.0->transformers) (3.10.0.2)\n",
            "Requirement already satisfied: pyparsing<3,>=2.0.2 in /usr/local/lib/python3.7/dist-packages (from packaging>=20.0->transformers) (2.4.7)\n",
            "Requirement already satisfied: dill in /usr/local/lib/python3.7/dist-packages (from datasets) (0.3.4)\n",
            "Requirement already satisfied: pyarrow!=4.0.0,>=1.0.0 in /usr/local/lib/python3.7/dist-packages (from datasets) (3.0.0)\n",
            "Requirement already satisfied: multiprocess in /usr/local/lib/python3.7/dist-packages (from datasets) (0.70.12.2)\n",
            "Collecting aiohttp\n",
            "  Downloading aiohttp-3.8.1-cp37-cp37m-manylinux_2_5_x86_64.manylinux1_x86_64.manylinux_2_12_x86_64.manylinux2010_x86_64.whl (1.1 MB)\n",
            "\u001b[K     |████████████████████████████████| 1.1 MB 32.9 MB/s \n",
            "\u001b[?25hCollecting xxhash\n",
            "  Downloading xxhash-2.0.2-cp37-cp37m-manylinux2010_x86_64.whl (243 kB)\n",
            "\u001b[K     |████████████████████████████████| 243 kB 45.5 MB/s \n",
            "\u001b[?25hCollecting fsspec[http]>=2021.05.0\n",
            "  Downloading fsspec-2021.11.0-py3-none-any.whl (132 kB)\n",
            "\u001b[K     |████████████████████████████████| 132 kB 45.8 MB/s \n",
            "\u001b[?25hRequirement already satisfied: pandas in /usr/local/lib/python3.7/dist-packages (from datasets) (1.1.5)\n",
            "Requirement already satisfied: chardet<4,>=3.0.2 in /usr/local/lib/python3.7/dist-packages (from requests->transformers) (3.0.4)\n",
            "Requirement already satisfied: idna<3,>=2.5 in /usr/local/lib/python3.7/dist-packages (from requests->transformers) (2.10)\n",
            "Requirement already satisfied: urllib3!=1.25.0,!=1.25.1,<1.26,>=1.21.1 in /usr/local/lib/python3.7/dist-packages (from requests->transformers) (1.24.3)\n",
            "Requirement already satisfied: certifi>=2017.4.17 in /usr/local/lib/python3.7/dist-packages (from requests->transformers) (2021.10.8)\n",
            "Collecting async-timeout<5.0,>=4.0.0a3\n",
            "  Downloading async_timeout-4.0.1-py3-none-any.whl (5.7 kB)\n",
            "Requirement already satisfied: charset-normalizer<3.0,>=2.0 in /usr/local/lib/python3.7/dist-packages (from aiohttp->datasets) (2.0.7)\n",
            "Collecting multidict<7.0,>=4.5\n",
            "  Downloading multidict-5.2.0-cp37-cp37m-manylinux_2_5_x86_64.manylinux1_x86_64.manylinux_2_12_x86_64.manylinux2010_x86_64.whl (160 kB)\n",
            "\u001b[K     |████████████████████████████████| 160 kB 49.0 MB/s \n",
            "\u001b[?25hRequirement already satisfied: attrs>=17.3.0 in /usr/local/lib/python3.7/dist-packages (from aiohttp->datasets) (21.2.0)\n",
            "Collecting asynctest==0.13.0\n",
            "  Downloading asynctest-0.13.0-py3-none-any.whl (26 kB)\n",
            "Collecting yarl<2.0,>=1.0\n",
            "  Downloading yarl-1.7.2-cp37-cp37m-manylinux_2_5_x86_64.manylinux1_x86_64.manylinux_2_12_x86_64.manylinux2010_x86_64.whl (271 kB)\n",
            "\u001b[K     |████████████████████████████████| 271 kB 45.2 MB/s \n",
            "\u001b[?25hCollecting aiosignal>=1.1.2\n",
            "  Downloading aiosignal-1.2.0-py3-none-any.whl (8.2 kB)\n",
            "Collecting frozenlist>=1.1.1\n",
            "  Downloading frozenlist-1.2.0-cp37-cp37m-manylinux_2_5_x86_64.manylinux1_x86_64.manylinux_2_12_x86_64.manylinux2010_x86_64.whl (192 kB)\n",
            "\u001b[K     |████████████████████████████████| 192 kB 48.4 MB/s \n",
            "\u001b[?25hRequirement already satisfied: zipp>=0.5 in /usr/local/lib/python3.7/dist-packages (from importlib-metadata->transformers) (3.6.0)\n",
            "Requirement already satisfied: pytz>=2017.2 in /usr/local/lib/python3.7/dist-packages (from pandas->datasets) (2018.9)\n",
            "Requirement already satisfied: python-dateutil>=2.7.3 in /usr/local/lib/python3.7/dist-packages (from pandas->datasets) (2.8.2)\n",
            "Requirement already satisfied: six>=1.5 in /usr/local/lib/python3.7/dist-packages (from python-dateutil>=2.7.3->pandas->datasets) (1.15.0)\n",
            "Requirement already satisfied: click in /usr/local/lib/python3.7/dist-packages (from sacremoses->transformers) (7.1.2)\n",
            "Requirement already satisfied: joblib in /usr/local/lib/python3.7/dist-packages (from sacremoses->transformers) (1.1.0)\n",
            "Installing collected packages: multidict, frozenlist, yarl, asynctest, async-timeout, aiosignal, pyyaml, fsspec, aiohttp, xxhash, tokenizers, sacremoses, huggingface-hub, transformers, datasets\n",
            "  Attempting uninstall: pyyaml\n",
            "    Found existing installation: PyYAML 3.13\n",
            "    Uninstalling PyYAML-3.13:\n",
            "      Successfully uninstalled PyYAML-3.13\n",
            "Successfully installed aiohttp-3.8.1 aiosignal-1.2.0 async-timeout-4.0.1 asynctest-0.13.0 datasets-1.15.1 frozenlist-1.2.0 fsspec-2021.11.0 huggingface-hub-0.1.2 multidict-5.2.0 pyyaml-6.0 sacremoses-0.0.46 tokenizers-0.10.3 transformers-4.12.4 xxhash-2.0.2 yarl-1.7.2\n",
            "\u001b[K     |████████████████████████████████| 186 kB 5.2 MB/s \n",
            "\u001b[K     |████████████████████████████████| 831.4 MB 1.4 kB/s \n",
            "\u001b[K     |████████████████████████████████| 56 kB 4.4 MB/s \n",
            "\u001b[K     |████████████████████████████████| 23.3 MB 86 kB/s \n",
            "\u001b[K     |████████████████████████████████| 22.1 MB 7.4 MB/s \n",
            "\u001b[31mERROR: pip's dependency resolver does not currently take into account all the packages that are installed. This behaviour is the source of the following dependency conflicts.\n",
            "torchtext 0.11.0 requires torch==1.10.0, but you have torch 1.9.1 which is incompatible.\u001b[0m\n",
            "\u001b[K     |████████████████████████████████| 49 kB 2.7 MB/s \n",
            "\u001b[K     |████████████████████████████████| 91 kB 5.0 MB/s \n",
            "\u001b[?25hCollecting git+https://github.com/huggingface/transformers.git\n",
            "  Cloning https://github.com/huggingface/transformers.git to /tmp/pip-req-build-qn8oi2yw\n",
            "  Running command git clone -q https://github.com/huggingface/transformers.git /tmp/pip-req-build-qn8oi2yw\n",
            "  Installing build dependencies ... \u001b[?25l\u001b[?25hdone\n",
            "  Getting requirements to build wheel ... \u001b[?25l\u001b[?25hdone\n",
            "    Preparing wheel metadata ... \u001b[?25l\u001b[?25hdone\n",
            "Requirement already satisfied: requests in /usr/local/lib/python3.7/dist-packages (from transformers==4.13.0.dev0) (2.23.0)\n",
            "Requirement already satisfied: regex!=2019.12.17 in /usr/local/lib/python3.7/dist-packages (from transformers==4.13.0.dev0) (2019.12.20)\n",
            "Requirement already satisfied: sacremoses in /usr/local/lib/python3.7/dist-packages (from transformers==4.13.0.dev0) (0.0.46)\n",
            "Requirement already satisfied: tqdm>=4.27 in /usr/local/lib/python3.7/dist-packages (from transformers==4.13.0.dev0) (4.62.3)\n",
            "Requirement already satisfied: packaging>=20.0 in /usr/local/lib/python3.7/dist-packages (from transformers==4.13.0.dev0) (21.2)\n",
            "Requirement already satisfied: importlib-metadata in /usr/local/lib/python3.7/dist-packages (from transformers==4.13.0.dev0) (4.8.2)\n",
            "Requirement already satisfied: numpy>=1.17 in /usr/local/lib/python3.7/dist-packages (from transformers==4.13.0.dev0) (1.19.5)\n",
            "Requirement already satisfied: pyyaml>=5.1 in /usr/local/lib/python3.7/dist-packages (from transformers==4.13.0.dev0) (6.0)\n",
            "Requirement already satisfied: huggingface-hub<1.0,>=0.1.0 in /usr/local/lib/python3.7/dist-packages (from transformers==4.13.0.dev0) (0.1.2)\n",
            "Requirement already satisfied: filelock in /usr/local/lib/python3.7/dist-packages (from transformers==4.13.0.dev0) (3.3.2)\n",
            "Requirement already satisfied: tokenizers<0.11,>=0.10.1 in /usr/local/lib/python3.7/dist-packages (from transformers==4.13.0.dev0) (0.10.3)\n",
            "Requirement already satisfied: typing-extensions>=3.7.4.3 in /usr/local/lib/python3.7/dist-packages (from huggingface-hub<1.0,>=0.1.0->transformers==4.13.0.dev0) (3.10.0.2)\n",
            "Requirement already satisfied: pyparsing<3,>=2.0.2 in /usr/local/lib/python3.7/dist-packages (from packaging>=20.0->transformers==4.13.0.dev0) (2.4.7)\n",
            "Requirement already satisfied: zipp>=0.5 in /usr/local/lib/python3.7/dist-packages (from importlib-metadata->transformers==4.13.0.dev0) (3.6.0)\n",
            "Requirement already satisfied: chardet<4,>=3.0.2 in /usr/local/lib/python3.7/dist-packages (from requests->transformers==4.13.0.dev0) (3.0.4)\n",
            "Requirement already satisfied: urllib3!=1.25.0,!=1.25.1,<1.26,>=1.21.1 in /usr/local/lib/python3.7/dist-packages (from requests->transformers==4.13.0.dev0) (1.24.3)\n",
            "Requirement already satisfied: idna<3,>=2.5 in /usr/local/lib/python3.7/dist-packages (from requests->transformers==4.13.0.dev0) (2.10)\n",
            "Requirement already satisfied: certifi>=2017.4.17 in /usr/local/lib/python3.7/dist-packages (from requests->transformers==4.13.0.dev0) (2021.10.8)\n",
            "Requirement already satisfied: click in /usr/local/lib/python3.7/dist-packages (from sacremoses->transformers==4.13.0.dev0) (7.1.2)\n",
            "Requirement already satisfied: joblib in /usr/local/lib/python3.7/dist-packages (from sacremoses->transformers==4.13.0.dev0) (1.1.0)\n",
            "Requirement already satisfied: six in /usr/local/lib/python3.7/dist-packages (from sacremoses->transformers==4.13.0.dev0) (1.15.0)\n",
            "Building wheels for collected packages: transformers\n",
            "  Building wheel for transformers (PEP 517) ... \u001b[?25l\u001b[?25hdone\n",
            "  Created wheel for transformers: filename=transformers-4.13.0.dev0-py3-none-any.whl size=3131248 sha256=d659f5a73901778376fd245b5bbafef4b19243227d7601eb366f291753094c18\n",
            "  Stored in directory: /tmp/pip-ephem-wheel-cache-e_b02bg7/wheels/90/a5/44/6bcd83827c8a60628c5ad602f429cd5076bcce5f2a90054947\n",
            "Successfully built transformers\n",
            "Installing collected packages: transformers\n",
            "  Attempting uninstall: transformers\n",
            "    Found existing installation: transformers 4.12.4\n",
            "    Uninstalling transformers-4.12.4:\n",
            "      Successfully uninstalled transformers-4.12.4\n",
            "Successfully installed transformers-4.13.0.dev0\n"
          ]
        }
      ]
    },
    {
      "cell_type": "markdown",
      "metadata": {
        "id": "UyJcCL82El4G"
      },
      "source": [
        "##required Librairies"
      ]
    },
    {
      "cell_type": "code",
      "metadata": {
        "colab": {
          "background_save": true
        },
        "id": "ldlI7-czEjZV"
      },
      "source": [
        "import matplotlib.pyplot as plt\n",
        "import tensorflow as tf\n",
        "import requests\n",
        "import os\n",
        "#import torch"
      ],
      "execution_count": null,
      "outputs": []
    },
    {
      "cell_type": "code",
      "metadata": {
        "colab": {
          "background_save": true
        },
        "id": "ycpeqhKB21zk"
      },
      "source": [
        "from fastai.vision.all import *\n",
        "from fastai.text.all import *\n",
        "from PIL import Image\n",
        "from unpackai.utils import *\n",
        "from unpackai.nlp import *"
      ],
      "execution_count": null,
      "outputs": []
    },
    {
      "cell_type": "code",
      "metadata": {
        "colab": {
          "background_save": true
        },
        "id": "c9YS5ojS29Y4"
      },
      "source": [
        "from transformers import (\n",
        "    AutoModelWithLMHead,\n",
        "    AutoTokenizer,\n",
        "    AutoModel,\n",
        "    ViTFeatureExtractor,\n",
        "    PreTrainedTokenizer,\n",
        "    EncoderDecoderModel\n",
        "    )"
      ],
      "execution_count": null,
      "outputs": []
    },
    {
      "cell_type": "markdown",
      "metadata": {
        "id": "2fhs6GZ4qFMx"
      },
      "source": [
        "##***Download coco dataset***"
      ]
    },
    {
      "cell_type": "code",
      "metadata": {
        "colab": {
          "background_save": true
        },
        "id": "-gE-Ez1qtyIA",
        "outputId": "fc930705-43a9-47c4-b413-fd6bd4e7d753"
      },
      "source": [
        "!pip install CocoDataset\n"
      ],
      "execution_count": null,
      "outputs": [
        {
          "name": "stdout",
          "output_type": "stream",
          "text": [
            "Collecting CocoDataset\n",
            "  Downloading CocoDataset-0.1.2-py3-none-any.whl (4.2 kB)\n",
            "Requirement already satisfied: pycocotools in /usr/local/lib/python3.7/dist-packages (from CocoDataset) (2.0.2)\n",
            "Requirement already satisfied: cython>=0.27.3 in /usr/local/lib/python3.7/dist-packages (from pycocotools->CocoDataset) (0.29.24)\n",
            "Requirement already satisfied: setuptools>=18.0 in /usr/local/lib/python3.7/dist-packages (from pycocotools->CocoDataset) (57.4.0)\n",
            "Requirement already satisfied: matplotlib>=2.1.0 in /usr/local/lib/python3.7/dist-packages (from pycocotools->CocoDataset) (3.2.2)\n",
            "Requirement already satisfied: numpy>=1.11 in /usr/local/lib/python3.7/dist-packages (from matplotlib>=2.1.0->pycocotools->CocoDataset) (1.19.5)\n",
            "Requirement already satisfied: cycler>=0.10 in /usr/local/lib/python3.7/dist-packages (from matplotlib>=2.1.0->pycocotools->CocoDataset) (0.11.0)\n",
            "Requirement already satisfied: pyparsing!=2.0.4,!=2.1.2,!=2.1.6,>=2.0.1 in /usr/local/lib/python3.7/dist-packages (from matplotlib>=2.1.0->pycocotools->CocoDataset) (2.4.7)\n",
            "Requirement already satisfied: python-dateutil>=2.1 in /usr/local/lib/python3.7/dist-packages (from matplotlib>=2.1.0->pycocotools->CocoDataset) (2.8.2)\n",
            "Requirement already satisfied: kiwisolver>=1.0.1 in /usr/local/lib/python3.7/dist-packages (from matplotlib>=2.1.0->pycocotools->CocoDataset) (1.3.2)\n",
            "Requirement already satisfied: six>=1.5 in /usr/local/lib/python3.7/dist-packages (from python-dateutil>=2.1->matplotlib>=2.1.0->pycocotools->CocoDataset) (1.15.0)\n",
            "Installing collected packages: CocoDataset\n",
            "Successfully installed CocoDataset-0.1.2\n"
          ]
        }
      ]
    },
    {
      "cell_type": "code",
      "metadata": {
        "colab": {
          "background_save": true
        },
        "id": "qTEQ0IDrMhsl",
        "outputId": "cd26cbf3-46a7-4cc9-c9f5-e0fa5b8ed074"
      },
      "source": [
        "%%time\n",
        "download_and_unpack(\"http://images.cocodataset.org/zips/val2014.zip\", \".\")"
      ],
      "execution_count": null,
      "outputs": [
        {
          "name": "stdout",
          "output_type": "stream",
          "text": [
            "CPU times: user 43.6 s, sys: 36.6 s, total: 1min 20s\n",
            "Wall time: 6min 7s\n"
          ]
        },
        {
          "data": {
            "text/plain": [
              "Path('.')"
            ]
          },
          "execution_count": null,
          "metadata": {},
          "output_type": "execute_result"
        }
      ]
    },
    {
      "cell_type": "code",
      "metadata": {
        "colab": {
          "background_save": true
        },
        "id": "l7se4A5GFhUI",
        "outputId": "618c7a31-a836-4b90-e95b-15f14d2ef04f"
      },
      "source": [
        "# Download caption annotation files\n",
        "%%time\n",
        "download_and_unpack(\"http://images.cocodataset.org/annotations/annotations_trainval2014.zip\", \".\")"
      ],
      "execution_count": null,
      "outputs": [
        {
          "name": "stdout",
          "output_type": "stream",
          "text": [
            "CPU times: user 6.64 s, sys: 2.75 s, total: 9.39 s\n",
            "Wall time: 55.6 s\n"
          ]
        },
        {
          "data": {
            "text/plain": [
              "Path('.')"
            ]
          },
          "execution_count": null,
          "metadata": {},
          "output_type": "execute_result"
        }
      ]
    },
    {
      "cell_type": "markdown",
      "metadata": {
        "id": "Wn-znCcvr-X-"
      },
      "source": [
        "##**Preparing dataset**"
      ]
    },
    {
      "cell_type": "code",
      "metadata": {
        "colab": {
          "background_save": true
        },
        "id": "K5G6cxcbF_6F",
        "outputId": "d8ac6ffa-e97c-432a-d0a4-4e22f1351775"
      },
      "source": [
        "ls(\"annotations\")[[\"Name\", \"Path\", \"Last_Modif\", \"Friendly_Size\"]]"
      ],
      "execution_count": null,
      "outputs": [
        {
          "data": {
            "text/html": [
              "<div>\n",
              "<style scoped>\n",
              "    .dataframe tbody tr th:only-of-type {\n",
              "        vertical-align: middle;\n",
              "    }\n",
              "\n",
              "    .dataframe tbody tr th {\n",
              "        vertical-align: top;\n",
              "    }\n",
              "\n",
              "    .dataframe thead th {\n",
              "        text-align: right;\n",
              "    }\n",
              "</style>\n",
              "<table border=\"1\" class=\"dataframe\">\n",
              "  <thead>\n",
              "    <tr style=\"text-align: right;\">\n",
              "      <th></th>\n",
              "      <th>Name</th>\n",
              "      <th>Path</th>\n",
              "      <th>Last_Modif</th>\n",
              "      <th>Friendly_Size</th>\n",
              "    </tr>\n",
              "  </thead>\n",
              "  <tbody>\n",
              "    <tr>\n",
              "      <th>2</th>\n",
              "      <td>captions_train2014.json</td>\n",
              "      <td>annotations/captions_train2014.json</td>\n",
              "      <td>2021-11-17 12:25:51.271539</td>\n",
              "      <td>63.69 MB</td>\n",
              "    </tr>\n",
              "    <tr>\n",
              "      <th>3</th>\n",
              "      <td>captions_val2014.json</td>\n",
              "      <td>annotations/captions_val2014.json</td>\n",
              "      <td>2021-11-17 12:25:52.782538</td>\n",
              "      <td>30.92 MB</td>\n",
              "    </tr>\n",
              "    <tr>\n",
              "      <th>4</th>\n",
              "      <td>instances_train2014.json</td>\n",
              "      <td>annotations/instances_train2014.json</td>\n",
              "      <td>2021-11-17 12:25:35.805547</td>\n",
              "      <td>317.15 MB</td>\n",
              "    </tr>\n",
              "    <tr>\n",
              "      <th>0</th>\n",
              "      <td>instances_val2014.json</td>\n",
              "      <td>annotations/instances_val2014.json</td>\n",
              "      <td>2021-11-17 12:25:41.786544</td>\n",
              "      <td>153.24 MB</td>\n",
              "    </tr>\n",
              "    <tr>\n",
              "      <th>5</th>\n",
              "      <td>person_keypoints_train2014.json</td>\n",
              "      <td>annotations/person_keypoints_train2014.json</td>\n",
              "      <td>2021-11-17 12:25:46.366542</td>\n",
              "      <td>162.82 MB</td>\n",
              "    </tr>\n",
              "    <tr>\n",
              "      <th>1</th>\n",
              "      <td>person_keypoints_val2014.json</td>\n",
              "      <td>annotations/person_keypoints_val2014.json</td>\n",
              "      <td>2021-11-17 12:25:50.182540</td>\n",
              "      <td>77.86 MB</td>\n",
              "    </tr>\n",
              "  </tbody>\n",
              "</table>\n",
              "</div>"
            ],
            "text/plain": [
              "                              Name  ... Friendly_Size\n",
              "2          captions_train2014.json  ...      63.69 MB\n",
              "3            captions_val2014.json  ...      30.92 MB\n",
              "4         instances_train2014.json  ...     317.15 MB\n",
              "0           instances_val2014.json  ...     153.24 MB\n",
              "5  person_keypoints_train2014.json  ...     162.82 MB\n",
              "1    person_keypoints_val2014.json  ...      77.86 MB\n",
              "\n",
              "[6 rows x 4 columns]"
            ]
          },
          "execution_count": null,
          "metadata": {},
          "output_type": "execute_result"
        }
      ]
    },
    {
      "cell_type": "code",
      "metadata": {
        "colab": {
          "background_save": true
        },
        "id": "i45fDgRKW062",
        "outputId": "5fd932b9-64c8-44d4-9d03-ead8e0318fc8"
      },
      "source": [
        "ls(\"val2014\")[[\"Name\", \"Path\", \"Last_Modif\", \"Friendly_Size\"]]"
      ],
      "execution_count": null,
      "outputs": [
        {
          "data": {
            "text/html": [
              "<div>\n",
              "<style scoped>\n",
              "    .dataframe tbody tr th:only-of-type {\n",
              "        vertical-align: middle;\n",
              "    }\n",
              "\n",
              "    .dataframe tbody tr th {\n",
              "        vertical-align: top;\n",
              "    }\n",
              "\n",
              "    .dataframe thead th {\n",
              "        text-align: right;\n",
              "    }\n",
              "</style>\n",
              "<table border=\"1\" class=\"dataframe\">\n",
              "  <thead>\n",
              "    <tr style=\"text-align: right;\">\n",
              "      <th></th>\n",
              "      <th>Name</th>\n",
              "      <th>Path</th>\n",
              "      <th>Last_Modif</th>\n",
              "      <th>Friendly_Size</th>\n",
              "    </tr>\n",
              "  </thead>\n",
              "  <tbody>\n",
              "    <tr>\n",
              "      <th>21540</th>\n",
              "      <td>COCO_val2014_000000000042.jpg</td>\n",
              "      <td>val2014/COCO_val2014_000000000042.jpg</td>\n",
              "      <td>2021-11-17 12:23:45.133601</td>\n",
              "      <td>208.31 KB</td>\n",
              "    </tr>\n",
              "    <tr>\n",
              "      <th>17921</th>\n",
              "      <td>COCO_val2014_000000000073.jpg</td>\n",
              "      <td>val2014/COCO_val2014_000000000073.jpg</td>\n",
              "      <td>2021-11-17 12:22:50.039633</td>\n",
              "      <td>374.66 KB</td>\n",
              "    </tr>\n",
              "    <tr>\n",
              "      <th>3504</th>\n",
              "      <td>COCO_val2014_000000000074.jpg</td>\n",
              "      <td>val2014/COCO_val2014_000000000074.jpg</td>\n",
              "      <td>2021-11-17 12:24:17.679585</td>\n",
              "      <td>172.02 KB</td>\n",
              "    </tr>\n",
              "    <tr>\n",
              "      <th>222</th>\n",
              "      <td>COCO_val2014_000000000133.jpg</td>\n",
              "      <td>val2014/COCO_val2014_000000000133.jpg</td>\n",
              "      <td>2021-11-17 12:23:17.669614</td>\n",
              "      <td>159.77 KB</td>\n",
              "    </tr>\n",
              "    <tr>\n",
              "      <th>15127</th>\n",
              "      <td>COCO_val2014_000000000136.jpg</td>\n",
              "      <td>val2014/COCO_val2014_000000000136.jpg</td>\n",
              "      <td>2021-11-17 12:23:08.643619</td>\n",
              "      <td>102.62 KB</td>\n",
              "    </tr>\n",
              "    <tr>\n",
              "      <th>...</th>\n",
              "      <td>...</td>\n",
              "      <td>...</td>\n",
              "      <td>...</td>\n",
              "      <td>...</td>\n",
              "    </tr>\n",
              "    <tr>\n",
              "      <th>15551</th>\n",
              "      <td>COCO_val2014_000000581886.jpg</td>\n",
              "      <td>val2014/COCO_val2014_000000581886.jpg</td>\n",
              "      <td>2021-11-17 12:23:08.144619</td>\n",
              "      <td>92.16 KB</td>\n",
              "    </tr>\n",
              "    <tr>\n",
              "      <th>28710</th>\n",
              "      <td>COCO_val2014_000000581887.jpg</td>\n",
              "      <td>val2014/COCO_val2014_000000581887.jpg</td>\n",
              "      <td>2021-11-17 12:22:08.994660</td>\n",
              "      <td>105.04 KB</td>\n",
              "    </tr>\n",
              "    <tr>\n",
              "      <th>17411</th>\n",
              "      <td>COCO_val2014_000000581899.jpg</td>\n",
              "      <td>val2014/COCO_val2014_000000581899.jpg</td>\n",
              "      <td>2021-11-17 12:22:12.282659</td>\n",
              "      <td>212.90 KB</td>\n",
              "    </tr>\n",
              "    <tr>\n",
              "      <th>31422</th>\n",
              "      <td>COCO_val2014_000000581913.jpg</td>\n",
              "      <td>val2014/COCO_val2014_000000581913.jpg</td>\n",
              "      <td>2021-11-17 12:24:49.822569</td>\n",
              "      <td>135.18 KB</td>\n",
              "    </tr>\n",
              "    <tr>\n",
              "      <th>18786</th>\n",
              "      <td>COCO_val2014_000000581929.jpg</td>\n",
              "      <td>val2014/COCO_val2014_000000581929.jpg</td>\n",
              "      <td>2021-11-17 12:22:12.994658</td>\n",
              "      <td>308.02 KB</td>\n",
              "    </tr>\n",
              "  </tbody>\n",
              "</table>\n",
              "<p>40504 rows × 4 columns</p>\n",
              "</div>"
            ],
            "text/plain": [
              "                                Name  ... Friendly_Size\n",
              "21540  COCO_val2014_000000000042.jpg  ...     208.31 KB\n",
              "17921  COCO_val2014_000000000073.jpg  ...     374.66 KB\n",
              "3504   COCO_val2014_000000000074.jpg  ...     172.02 KB\n",
              "222    COCO_val2014_000000000133.jpg  ...     159.77 KB\n",
              "15127  COCO_val2014_000000000136.jpg  ...     102.62 KB\n",
              "...                              ...  ...           ...\n",
              "15551  COCO_val2014_000000581886.jpg  ...      92.16 KB\n",
              "28710  COCO_val2014_000000581887.jpg  ...     105.04 KB\n",
              "17411  COCO_val2014_000000581899.jpg  ...     212.90 KB\n",
              "31422  COCO_val2014_000000581913.jpg  ...     135.18 KB\n",
              "18786  COCO_val2014_000000581929.jpg  ...     308.02 KB\n",
              "\n",
              "[40504 rows x 4 columns]"
            ]
          },
          "execution_count": null,
          "metadata": {},
          "output_type": "execute_result"
        }
      ]
    },
    {
      "cell_type": "markdown",
      "metadata": {
        "id": "FRDR7BVZsihd"
      },
      "source": [
        "##**Data Analysis**"
      ]
    },
    {
      "cell_type": "code",
      "metadata": {
        "colab": {
          "background_save": true
        },
        "id": "7c4-leZGVeNX"
      },
      "source": [
        "path_val = Path(\"./val2014\")\n",
        "anno = Path(\"annotations/captions_val2014.json\").read_json()"
      ],
      "execution_count": null,
      "outputs": []
    },
    {
      "cell_type": "code",
      "metadata": {
        "colab": {
          "background_save": true
        },
        "id": "8BbJX9X5XaxI",
        "outputId": "db481cfc-b664-4582-ec2a-e3db65a5dd03"
      },
      "source": [
        "len(anno['annotations'])"
      ],
      "execution_count": null,
      "outputs": [
        {
          "data": {
            "text/plain": [
              "202654"
            ]
          },
          "execution_count": null,
          "metadata": {},
          "output_type": "execute_result"
        }
      ]
    },
    {
      "cell_type": "code",
      "metadata": {
        "colab": {
          "background_save": true
        },
        "id": "Ov6VyuiqV0R-"
      },
      "source": [
        "image_df = pd.DataFrame(anno['images'])\n",
        "anno_df = pd.DataFrame(anno['annotations'])"
      ],
      "execution_count": null,
      "outputs": []
    },
    {
      "cell_type": "code",
      "metadata": {
        "colab": {
          "background_save": true
        },
        "id": "2ckHlguPV7TQ",
        "outputId": "4b953606-5a0e-4591-dc19-6a43fb445856"
      },
      "source": [
        "image_df.head()"
      ],
      "execution_count": null,
      "outputs": [
        {
          "data": {
            "text/html": [
              "<div>\n",
              "<style scoped>\n",
              "    .dataframe tbody tr th:only-of-type {\n",
              "        vertical-align: middle;\n",
              "    }\n",
              "\n",
              "    .dataframe tbody tr th {\n",
              "        vertical-align: top;\n",
              "    }\n",
              "\n",
              "    .dataframe thead th {\n",
              "        text-align: right;\n",
              "    }\n",
              "</style>\n",
              "<table border=\"1\" class=\"dataframe\">\n",
              "  <thead>\n",
              "    <tr style=\"text-align: right;\">\n",
              "      <th></th>\n",
              "      <th>license</th>\n",
              "      <th>file_name</th>\n",
              "      <th>coco_url</th>\n",
              "      <th>height</th>\n",
              "      <th>width</th>\n",
              "      <th>date_captured</th>\n",
              "      <th>flickr_url</th>\n",
              "      <th>id</th>\n",
              "    </tr>\n",
              "  </thead>\n",
              "  <tbody>\n",
              "    <tr>\n",
              "      <th>0</th>\n",
              "      <td>3</td>\n",
              "      <td>COCO_val2014_000000391895.jpg</td>\n",
              "      <td>http://images.cocodataset.org/val2014/COCO_val2014_000000391895.jpg</td>\n",
              "      <td>360</td>\n",
              "      <td>640</td>\n",
              "      <td>2013-11-14 11:18:45</td>\n",
              "      <td>http://farm9.staticflickr.com/8186/8119368305_4e622c8349_z.jpg</td>\n",
              "      <td>391895</td>\n",
              "    </tr>\n",
              "    <tr>\n",
              "      <th>1</th>\n",
              "      <td>4</td>\n",
              "      <td>COCO_val2014_000000522418.jpg</td>\n",
              "      <td>http://images.cocodataset.org/val2014/COCO_val2014_000000522418.jpg</td>\n",
              "      <td>480</td>\n",
              "      <td>640</td>\n",
              "      <td>2013-11-14 11:38:44</td>\n",
              "      <td>http://farm1.staticflickr.com/1/127244861_ab0c0381e7_z.jpg</td>\n",
              "      <td>522418</td>\n",
              "    </tr>\n",
              "    <tr>\n",
              "      <th>2</th>\n",
              "      <td>3</td>\n",
              "      <td>COCO_val2014_000000184613.jpg</td>\n",
              "      <td>http://images.cocodataset.org/val2014/COCO_val2014_000000184613.jpg</td>\n",
              "      <td>336</td>\n",
              "      <td>500</td>\n",
              "      <td>2013-11-14 12:36:29</td>\n",
              "      <td>http://farm3.staticflickr.com/2169/2118578392_1193aa04a0_z.jpg</td>\n",
              "      <td>184613</td>\n",
              "    </tr>\n",
              "    <tr>\n",
              "      <th>3</th>\n",
              "      <td>3</td>\n",
              "      <td>COCO_val2014_000000318219.jpg</td>\n",
              "      <td>http://images.cocodataset.org/val2014/COCO_val2014_000000318219.jpg</td>\n",
              "      <td>640</td>\n",
              "      <td>556</td>\n",
              "      <td>2013-11-14 13:02:53</td>\n",
              "      <td>http://farm5.staticflickr.com/4125/5094763076_813ea2751b_z.jpg</td>\n",
              "      <td>318219</td>\n",
              "    </tr>\n",
              "    <tr>\n",
              "      <th>4</th>\n",
              "      <td>3</td>\n",
              "      <td>COCO_val2014_000000554625.jpg</td>\n",
              "      <td>http://images.cocodataset.org/val2014/COCO_val2014_000000554625.jpg</td>\n",
              "      <td>640</td>\n",
              "      <td>426</td>\n",
              "      <td>2013-11-14 16:03:19</td>\n",
              "      <td>http://farm5.staticflickr.com/4086/5094162993_8f59d8a473_z.jpg</td>\n",
              "      <td>554625</td>\n",
              "    </tr>\n",
              "  </tbody>\n",
              "</table>\n",
              "</div>"
            ],
            "text/plain": [
              "   license  ...      id\n",
              "0        3  ...  391895\n",
              "1        4  ...  522418\n",
              "2        3  ...  184613\n",
              "3        3  ...  318219\n",
              "4        3  ...  554625\n",
              "\n",
              "[5 rows x 8 columns]"
            ]
          },
          "execution_count": null,
          "metadata": {},
          "output_type": "execute_result"
        }
      ]
    },
    {
      "cell_type": "code",
      "metadata": {
        "colab": {
          "background_save": true
        },
        "id": "6GWuynkXWQT0",
        "outputId": "21fb55cf-def3-4925-f3d9-0d48ec5be79e"
      },
      "source": [
        "anno_df.head()"
      ],
      "execution_count": null,
      "outputs": [
        {
          "data": {
            "text/html": [
              "<div>\n",
              "<style scoped>\n",
              "    .dataframe tbody tr th:only-of-type {\n",
              "        vertical-align: middle;\n",
              "    }\n",
              "\n",
              "    .dataframe tbody tr th {\n",
              "        vertical-align: top;\n",
              "    }\n",
              "\n",
              "    .dataframe thead th {\n",
              "        text-align: right;\n",
              "    }\n",
              "</style>\n",
              "<table border=\"1\" class=\"dataframe\">\n",
              "  <thead>\n",
              "    <tr style=\"text-align: right;\">\n",
              "      <th></th>\n",
              "      <th>image_id</th>\n",
              "      <th>id</th>\n",
              "      <th>caption</th>\n",
              "    </tr>\n",
              "  </thead>\n",
              "  <tbody>\n",
              "    <tr>\n",
              "      <th>0</th>\n",
              "      <td>203564</td>\n",
              "      <td>37</td>\n",
              "      <td>A bicycle replica with a clock as the front wheel.</td>\n",
              "    </tr>\n",
              "    <tr>\n",
              "      <th>1</th>\n",
              "      <td>179765</td>\n",
              "      <td>38</td>\n",
              "      <td>A black Honda motorcycle parked in front of a garage.</td>\n",
              "    </tr>\n",
              "    <tr>\n",
              "      <th>2</th>\n",
              "      <td>322141</td>\n",
              "      <td>49</td>\n",
              "      <td>A room with blue walls and a white sink and door.</td>\n",
              "    </tr>\n",
              "    <tr>\n",
              "      <th>3</th>\n",
              "      <td>16977</td>\n",
              "      <td>89</td>\n",
              "      <td>A car that seems to be parked illegally behind a legally parked car</td>\n",
              "    </tr>\n",
              "    <tr>\n",
              "      <th>4</th>\n",
              "      <td>106140</td>\n",
              "      <td>98</td>\n",
              "      <td>A large passenger airplane flying through the air.</td>\n",
              "    </tr>\n",
              "  </tbody>\n",
              "</table>\n",
              "</div>"
            ],
            "text/plain": [
              "   image_id  ...                                                              caption\n",
              "0    203564  ...                   A bicycle replica with a clock as the front wheel.\n",
              "1    179765  ...                A black Honda motorcycle parked in front of a garage.\n",
              "2    322141  ...                    A room with blue walls and a white sink and door.\n",
              "3     16977  ...  A car that seems to be parked illegally behind a legally parked car\n",
              "4    106140  ...                   A large passenger airplane flying through the air.\n",
              "\n",
              "[5 rows x 3 columns]"
            ]
          },
          "execution_count": null,
          "metadata": {},
          "output_type": "execute_result"
        }
      ]
    },
    {
      "cell_type": "code",
      "metadata": {
        "colab": {
          "background_save": true
        },
        "id": "nPaTjsJQWa0U"
      },
      "source": [
        "file_name_2_id = dict(image_df[[\"file_name\",\"id\",]].values)\n",
        "id_2_caption = dict(anno_df[[\"image_id\",\"caption\"]].values)"
      ],
      "execution_count": null,
      "outputs": []
    },
    {
      "cell_type": "code",
      "metadata": {
        "colab": {
          "background_save": true
        },
        "id": "zNaN6lTDQtq_",
        "outputId": "5dd4eb4c-79db-4342-df02-317e2001e103"
      },
      "source": [
        "pd.merge(\n",
        "     left= anno_df,\n",
        "    right= image_df,\n",
        "    how=\"inner\",\n",
        "    left_on = \"image_id\",\n",
        "    right_on = \"id\",\n",
        ")"
      ],
      "execution_count": null,
      "outputs": [
        {
          "data": {
            "text/html": [
              "<div>\n",
              "<style scoped>\n",
              "    .dataframe tbody tr th:only-of-type {\n",
              "        vertical-align: middle;\n",
              "    }\n",
              "\n",
              "    .dataframe tbody tr th {\n",
              "        vertical-align: top;\n",
              "    }\n",
              "\n",
              "    .dataframe thead th {\n",
              "        text-align: right;\n",
              "    }\n",
              "</style>\n",
              "<table border=\"1\" class=\"dataframe\">\n",
              "  <thead>\n",
              "    <tr style=\"text-align: right;\">\n",
              "      <th></th>\n",
              "      <th>image_id</th>\n",
              "      <th>id_x</th>\n",
              "      <th>caption</th>\n",
              "      <th>license</th>\n",
              "      <th>file_name</th>\n",
              "      <th>coco_url</th>\n",
              "      <th>height</th>\n",
              "      <th>width</th>\n",
              "      <th>date_captured</th>\n",
              "      <th>flickr_url</th>\n",
              "      <th>id_y</th>\n",
              "    </tr>\n",
              "  </thead>\n",
              "  <tbody>\n",
              "    <tr>\n",
              "      <th>0</th>\n",
              "      <td>203564</td>\n",
              "      <td>37</td>\n",
              "      <td>A bicycle replica with a clock as the front wheel.</td>\n",
              "      <td>4</td>\n",
              "      <td>COCO_val2014_000000203564.jpg</td>\n",
              "      <td>http://images.cocodataset.org/val2014/COCO_val2014_000000203564.jpg</td>\n",
              "      <td>400</td>\n",
              "      <td>400</td>\n",
              "      <td>2013-11-15 03:12:47</td>\n",
              "      <td>http://farm8.staticflickr.com/7366/9643253026_86d6e38def_z.jpg</td>\n",
              "      <td>203564</td>\n",
              "    </tr>\n",
              "    <tr>\n",
              "      <th>1</th>\n",
              "      <td>203564</td>\n",
              "      <td>181</td>\n",
              "      <td>The bike has a clock as a tire.</td>\n",
              "      <td>4</td>\n",
              "      <td>COCO_val2014_000000203564.jpg</td>\n",
              "      <td>http://images.cocodataset.org/val2014/COCO_val2014_000000203564.jpg</td>\n",
              "      <td>400</td>\n",
              "      <td>400</td>\n",
              "      <td>2013-11-15 03:12:47</td>\n",
              "      <td>http://farm8.staticflickr.com/7366/9643253026_86d6e38def_z.jpg</td>\n",
              "      <td>203564</td>\n",
              "    </tr>\n",
              "    <tr>\n",
              "      <th>2</th>\n",
              "      <td>203564</td>\n",
              "      <td>478</td>\n",
              "      <td>A black metal bicycle with a clock inside the front wheel.</td>\n",
              "      <td>4</td>\n",
              "      <td>COCO_val2014_000000203564.jpg</td>\n",
              "      <td>http://images.cocodataset.org/val2014/COCO_val2014_000000203564.jpg</td>\n",
              "      <td>400</td>\n",
              "      <td>400</td>\n",
              "      <td>2013-11-15 03:12:47</td>\n",
              "      <td>http://farm8.staticflickr.com/7366/9643253026_86d6e38def_z.jpg</td>\n",
              "      <td>203564</td>\n",
              "    </tr>\n",
              "    <tr>\n",
              "      <th>3</th>\n",
              "      <td>203564</td>\n",
              "      <td>6637</td>\n",
              "      <td>A bicycle figurine in which the front wheel is replaced with a clock\\n</td>\n",
              "      <td>4</td>\n",
              "      <td>COCO_val2014_000000203564.jpg</td>\n",
              "      <td>http://images.cocodataset.org/val2014/COCO_val2014_000000203564.jpg</td>\n",
              "      <td>400</td>\n",
              "      <td>400</td>\n",
              "      <td>2013-11-15 03:12:47</td>\n",
              "      <td>http://farm8.staticflickr.com/7366/9643253026_86d6e38def_z.jpg</td>\n",
              "      <td>203564</td>\n",
              "    </tr>\n",
              "    <tr>\n",
              "      <th>4</th>\n",
              "      <td>203564</td>\n",
              "      <td>6802</td>\n",
              "      <td>A clock with the appearance of the wheel of a bicycle</td>\n",
              "      <td>4</td>\n",
              "      <td>COCO_val2014_000000203564.jpg</td>\n",
              "      <td>http://images.cocodataset.org/val2014/COCO_val2014_000000203564.jpg</td>\n",
              "      <td>400</td>\n",
              "      <td>400</td>\n",
              "      <td>2013-11-15 03:12:47</td>\n",
              "      <td>http://farm8.staticflickr.com/7366/9643253026_86d6e38def_z.jpg</td>\n",
              "      <td>203564</td>\n",
              "    </tr>\n",
              "    <tr>\n",
              "      <th>...</th>\n",
              "      <td>...</td>\n",
              "      <td>...</td>\n",
              "      <td>...</td>\n",
              "      <td>...</td>\n",
              "      <td>...</td>\n",
              "      <td>...</td>\n",
              "      <td>...</td>\n",
              "      <td>...</td>\n",
              "      <td>...</td>\n",
              "      <td>...</td>\n",
              "      <td>...</td>\n",
              "    </tr>\n",
              "    <tr>\n",
              "      <th>202649</th>\n",
              "      <td>347648</td>\n",
              "      <td>815172</td>\n",
              "      <td>A hand carved vase sitting on a blue cloth.</td>\n",
              "      <td>1</td>\n",
              "      <td>COCO_val2014_000000347648.jpg</td>\n",
              "      <td>http://images.cocodataset.org/val2014/COCO_val2014_000000347648.jpg</td>\n",
              "      <td>428</td>\n",
              "      <td>640</td>\n",
              "      <td>2013-11-24 18:30:11</td>\n",
              "      <td>http://farm8.staticflickr.com/7010/6445027757_785f40ecd8_z.jpg</td>\n",
              "      <td>347648</td>\n",
              "    </tr>\n",
              "    <tr>\n",
              "      <th>202650</th>\n",
              "      <td>347648</td>\n",
              "      <td>817186</td>\n",
              "      <td>A vase sitting on display and tilted a bit to the right.</td>\n",
              "      <td>1</td>\n",
              "      <td>COCO_val2014_000000347648.jpg</td>\n",
              "      <td>http://images.cocodataset.org/val2014/COCO_val2014_000000347648.jpg</td>\n",
              "      <td>428</td>\n",
              "      <td>640</td>\n",
              "      <td>2013-11-24 18:30:11</td>\n",
              "      <td>http://farm8.staticflickr.com/7010/6445027757_785f40ecd8_z.jpg</td>\n",
              "      <td>347648</td>\n",
              "    </tr>\n",
              "    <tr>\n",
              "      <th>202651</th>\n",
              "      <td>347648</td>\n",
              "      <td>817429</td>\n",
              "      <td>a close up of a vase with decorations</td>\n",
              "      <td>1</td>\n",
              "      <td>COCO_val2014_000000347648.jpg</td>\n",
              "      <td>http://images.cocodataset.org/val2014/COCO_val2014_000000347648.jpg</td>\n",
              "      <td>428</td>\n",
              "      <td>640</td>\n",
              "      <td>2013-11-24 18:30:11</td>\n",
              "      <td>http://farm8.staticflickr.com/7010/6445027757_785f40ecd8_z.jpg</td>\n",
              "      <td>347648</td>\n",
              "    </tr>\n",
              "    <tr>\n",
              "      <th>202652</th>\n",
              "      <td>347648</td>\n",
              "      <td>818227</td>\n",
              "      <td>A vase and lids are sitting on a table.</td>\n",
              "      <td>1</td>\n",
              "      <td>COCO_val2014_000000347648.jpg</td>\n",
              "      <td>http://images.cocodataset.org/val2014/COCO_val2014_000000347648.jpg</td>\n",
              "      <td>428</td>\n",
              "      <td>640</td>\n",
              "      <td>2013-11-24 18:30:11</td>\n",
              "      <td>http://farm8.staticflickr.com/7010/6445027757_785f40ecd8_z.jpg</td>\n",
              "      <td>347648</td>\n",
              "    </tr>\n",
              "    <tr>\n",
              "      <th>202653</th>\n",
              "      <td>347648</td>\n",
              "      <td>818323</td>\n",
              "      <td>A very old and large plant vase next to others.</td>\n",
              "      <td>1</td>\n",
              "      <td>COCO_val2014_000000347648.jpg</td>\n",
              "      <td>http://images.cocodataset.org/val2014/COCO_val2014_000000347648.jpg</td>\n",
              "      <td>428</td>\n",
              "      <td>640</td>\n",
              "      <td>2013-11-24 18:30:11</td>\n",
              "      <td>http://farm8.staticflickr.com/7010/6445027757_785f40ecd8_z.jpg</td>\n",
              "      <td>347648</td>\n",
              "    </tr>\n",
              "  </tbody>\n",
              "</table>\n",
              "<p>202654 rows × 11 columns</p>\n",
              "</div>"
            ],
            "text/plain": [
              "        image_id  ...    id_y\n",
              "0         203564  ...  203564\n",
              "1         203564  ...  203564\n",
              "2         203564  ...  203564\n",
              "3         203564  ...  203564\n",
              "4         203564  ...  203564\n",
              "...          ...  ...     ...\n",
              "202649    347648  ...  347648\n",
              "202650    347648  ...  347648\n",
              "202651    347648  ...  347648\n",
              "202652    347648  ...  347648\n",
              "202653    347648  ...  347648\n",
              "\n",
              "[202654 rows x 11 columns]"
            ]
          },
          "execution_count": null,
          "metadata": {},
          "output_type": "execute_result"
        }
      ]
    },
    {
      "cell_type": "markdown",
      "metadata": {
        "id": "ljmQkCW02NYP"
      },
      "source": [
        "##**Tokenizer**"
      ]
    },
    {
      "cell_type": "code",
      "metadata": {
        "colab": {
          "background_save": true,
          "referenced_widgets": [
            "458081df180b45d880f40c7ec351e8a4",
            "c1d030a9f84944bf8af55eef7d1be6df",
            "1f5cc33f3f9147daae52652905f5a55c",
            "53f9752420f449d5993aa792769335a3"
          ]
        },
        "id": "rwVO6EcoWiMr",
        "outputId": "8fa97516-a40a-44fc-ed82-403766ade86d"
      },
      "source": [
        "tokenizer = AutoTokenizer.from_pretrained(\"gpt2\")\n",
        "tokenizer.pad_token = tokenizer.eos_token"
      ],
      "execution_count": null,
      "outputs": [
        {
          "data": {
            "application/vnd.jupyter.widget-view+json": {
              "model_id": "458081df180b45d880f40c7ec351e8a4",
              "version_major": 2,
              "version_minor": 0
            },
            "text/plain": [
              "Downloading:   0%|          | 0.00/665 [00:00<?, ?B/s]"
            ]
          },
          "metadata": {},
          "output_type": "display_data"
        },
        {
          "data": {
            "application/vnd.jupyter.widget-view+json": {
              "model_id": "c1d030a9f84944bf8af55eef7d1be6df",
              "version_major": 2,
              "version_minor": 0
            },
            "text/plain": [
              "Downloading:   0%|          | 0.00/0.99M [00:00<?, ?B/s]"
            ]
          },
          "metadata": {},
          "output_type": "display_data"
        },
        {
          "data": {
            "application/vnd.jupyter.widget-view+json": {
              "model_id": "1f5cc33f3f9147daae52652905f5a55c",
              "version_major": 2,
              "version_minor": 0
            },
            "text/plain": [
              "Downloading:   0%|          | 0.00/446k [00:00<?, ?B/s]"
            ]
          },
          "metadata": {},
          "output_type": "display_data"
        },
        {
          "data": {
            "application/vnd.jupyter.widget-view+json": {
              "model_id": "53f9752420f449d5993aa792769335a3",
              "version_major": 2,
              "version_minor": 0
            },
            "text/plain": [
              "Downloading:   0%|          | 0.00/1.29M [00:00<?, ?B/s]"
            ]
          },
          "metadata": {},
          "output_type": "display_data"
        }
      ]
    },
    {
      "cell_type": "code",
      "metadata": {
        "colab": {
          "background_save": true
        },
        "id": "wOb6eEy40YEl"
      },
      "source": [
        "def get_y(path: Path):\n",
        "    # file name of the iamge path\n",
        "    file_name = path.name\n",
        "    # get the caption according to image file name\n",
        "    idx = file_name_2_id.get(file_name)\n",
        "    return f\": {id_2_caption.get(idx)}\""
      ],
      "execution_count": null,
      "outputs": []
    },
    {
      "cell_type": "code",
      "metadata": {
        "colab": {
          "background_save": true
        },
        "id": "vNtDSlInb4CY"
      },
      "source": [
        "INPUT_MEAN = [.5,.5,.5]\n",
        "INPUT_STD = [.5,.5,.5]"
      ],
      "execution_count": null,
      "outputs": []
    },
    {
      "cell_type": "code",
      "metadata": {
        "colab": {
          "background_save": true
        },
        "id": "omIS75Vic9wH"
      },
      "source": [
        "from unpackai.nlp import HFTextBlock"
      ],
      "execution_count": null,
      "outputs": []
    },
    {
      "cell_type": "markdown",
      "metadata": {
        "id": "Zmn5mDJQGBCb"
      },
      "source": [
        ""
      ]
    },
    {
      "cell_type": "markdown",
      "metadata": {
        "id": "GRbWhkUJtRjL"
      },
      "source": [
        "##**HF Text Block**"
      ]
    },
    {
      "cell_type": "code",
      "metadata": {
        "colab": {
          "background_save": true
        },
        "id": "eV4PBmhucCwx"
      },
      "source": [
        "dblock = DataBlock(blocks = (\n",
        "    ImageBlock,\n",
        "    HFTextBlock(tokenizer,max_length=32,padding=\"max_length\",truncation=True)),\n",
        "                   get_items = get_image_files,\n",
        "                   item_tfms = Resize(224),\n",
        "                   batch_tfms=[\n",
        "                               IntToFloatTensor(),\n",
        "                               Normalize.from_stats(INPUT_MEAN,INPUT_STD),],\n",
        "                   get_y     = get_y,\n",
        "                   splitter  = RandomSplitter(),\n",
        "                   )"
      ],
      "execution_count": null,
      "outputs": []
    },
    {
      "cell_type": "code",
      "metadata": {
        "colab": {
          "background_save": true
        },
        "id": "gGqKK3I6dHiz"
      },
      "source": [
        "def batch_x_merge_y(batch, b):\n",
        "    x, y = batch\n",
        "    return (x, y), y\n",
        "\n",
        "dblock.dls_kwargs['retain'] = batch_x_merge_y"
      ],
      "execution_count": null,
      "outputs": []
    },
    {
      "cell_type": "code",
      "metadata": {
        "colab": {
          "background_save": true
        },
        "id": "wZNNAu6adRth"
      },
      "source": [
        "dsets = dblock.datasets(path_val)\n",
        "x, y = dsets.train[0]"
      ],
      "execution_count": null,
      "outputs": []
    },
    {
      "cell_type": "code",
      "metadata": {
        "colab": {
          "background_save": true
        },
        "id": "Y-qYsrAW38_B",
        "outputId": "2bebaa58-a5e6-45b7-f559-23789ac4f698"
      },
      "source": [
        "print(f\"text being:\\t{y}\")\n",
        "x.resize((224,224))"
      ],
      "execution_count": null,
      "outputs": [
        {
          "name": "stdout",
          "output_type": "stream",
          "text": [
            "text being:\t: A cow in the pasture drinking from a lake.\n"
          ]
        },
        {
          "data": {
            "image/png": "[encoded data removed]",
            "text/plain": [
              "<PIL.Image.Image image mode=RGB size=224x224 at 0x7F7C3B2B04D0>"
            ]
          },
          "execution_count": null,
          "metadata": {},
          "output_type": "execute_result"
        }
      ]
    },
    {
      "cell_type": "code",
      "metadata": {
        "colab": {
          "background_save": true
        },
        "id": "ZBUr3RL-9yAm"
      },
      "source": [
        "dls = dblock.dataloaders(path_val, bs=16)"
      ],
      "execution_count": null,
      "outputs": []
    },
    {
      "cell_type": "code",
      "metadata": {
        "colab": {
          "background_save": true
        },
        "id": "Hpv_JJgF93Q5"
      },
      "source": [
        "batch = dls.one_batch()"
      ],
      "execution_count": null,
      "outputs": []
    },
    {
      "cell_type": "code",
      "metadata": {
        "colab": {
          "background_save": true
        },
        "id": "4Z7h-YtL-BFK"
      },
      "source": [
        "(batch_img, batch_txt), batch_txt2 = batch"
      ],
      "execution_count": null,
      "outputs": []
    },
    {
      "cell_type": "code",
      "metadata": {
        "colab": {
          "background_save": true
        },
        "id": "dq3Qh7Mg-Gxg",
        "outputId": "2ea216e8-dc6b-464f-fc10-78ffcd44fde5"
      },
      "source": [
        "batch_img.shape, batch_txt.shape, batch_txt2.shape"
      ],
      "execution_count": null,
      "outputs": [
        {
          "data": {
            "text/plain": [
              "(torch.Size([16, 3, 224, 224]), torch.Size([16, 32]), torch.Size([16, 32]))"
            ]
          },
          "execution_count": null,
          "metadata": {},
          "output_type": "execute_result"
        }
      ]
    },
    {
      "cell_type": "markdown",
      "metadata": {
        "id": "T9jf-cqrqM-c"
      },
      "source": [
        "##**Building the model**"
      ]
    },
    {
      "cell_type": "code",
      "metadata": {
        "colab": {
          "background_save": true,
          "referenced_widgets": [
            "b2fbf1b0a0a747e2bc2479a5025e94e8",
            "0a95f40f93af4662b0be739ff9c44cd5",
            "d031a2138b064faf8016335dd4c1aee3"
          ]
        },
        "id": "2XsTNEAePWix",
        "outputId": "c09ec28f-e1eb-4717-b3e4-468768968b68"
      },
      "source": [
        "encoder = AutoModel.from_pretrained('google/vit-base-patch16-224-in21k')\n",
        "decoder = AutoModelWithLMHead.from_pretrained(\"gpt2\", add_cross_attention=True)\n",
        "decoder.tokenizer = tokenizer"
      ],
      "execution_count": null,
      "outputs": [
        {
          "data": {
            "application/vnd.jupyter.widget-view+json": {
              "model_id": "b2fbf1b0a0a747e2bc2479a5025e94e8",
              "version_major": 2,
              "version_minor": 0
            },
            "text/plain": [
              "Downloading:   0%|          | 0.00/502 [00:00<?, ?B/s]"
            ]
          },
          "metadata": {},
          "output_type": "display_data"
        },
        {
          "data": {
            "application/vnd.jupyter.widget-view+json": {
              "model_id": "0a95f40f93af4662b0be739ff9c44cd5",
              "version_major": 2,
              "version_minor": 0
            },
            "text/plain": [
              "Downloading:   0%|          | 0.00/330M [00:00<?, ?B/s]"
            ]
          },
          "metadata": {},
          "output_type": "display_data"
        },
        {
          "name": "stderr",
          "output_type": "stream",
          "text": [
            "/usr/local/lib/python3.7/dist-packages/transformers/models/auto/modeling_auto.py:712: FutureWarning: The class `AutoModelWithLMHead` is deprecated and will be removed in a future version. Please use `AutoModelForCausalLM` for causal language models, `AutoModelForMaskedLM` for masked language models and `AutoModelForSeq2SeqLM` for encoder-decoder models.\n",
            "  FutureWarning,\n"
          ]
        },
        {
          "data": {
            "application/vnd.jupyter.widget-view+json": {
              "model_id": "d031a2138b064faf8016335dd4c1aee3",
              "version_major": 2,
              "version_minor": 0
            },
            "text/plain": [
              "Downloading:   0%|          | 0.00/523M [00:00<?, ?B/s]"
            ]
          },
          "metadata": {},
          "output_type": "display_data"
        },
        {
          "name": "stderr",
          "output_type": "stream",
          "text": [
            "Some weights of GPT2LMHeadModel were not initialized from the model checkpoint at gpt2 and are newly initialized: ['h.5.crossattention.masked_bias', 'h.6.crossattention.bias', 'h.5.crossattention.c_proj.weight', 'h.1.crossattention.q_attn.weight', 'h.6.ln_cross_attn.weight', 'h.7.ln_cross_attn.weight', 'h.2.crossattention.masked_bias', 'h.5.crossattention.c_attn.weight', 'h.2.crossattention.c_proj.weight', 'h.8.crossattention.c_proj.weight', 'h.7.crossattention.c_proj.weight', 'h.4.crossattention.masked_bias', 'h.9.crossattention.c_attn.weight', 'h.6.crossattention.masked_bias', 'h.11.crossattention.masked_bias', 'h.4.ln_cross_attn.weight', 'h.11.crossattention.bias', 'h.5.crossattention.c_proj.bias', 'h.11.crossattention.q_attn.weight', 'h.1.crossattention.bias', 'h.9.crossattention.bias', 'h.6.crossattention.c_attn.weight', 'h.10.crossattention.c_attn.weight', 'h.7.crossattention.c_proj.bias', 'h.3.crossattention.q_attn.weight', 'h.11.crossattention.c_attn.weight', 'h.10.crossattention.q_attn.weight', 'h.10.crossattention.masked_bias', 'h.7.crossattention.q_attn.weight', 'h.10.crossattention.c_proj.bias', 'h.8.crossattention.q_attn.weight', 'h.8.ln_cross_attn.weight', 'h.2.crossattention.bias', 'h.3.crossattention.bias', 'h.3.crossattention.c_proj.weight', 'h.9.crossattention.q_attn.weight', 'h.9.ln_cross_attn.weight', 'h.7.crossattention.bias', 'h.10.crossattention.bias', 'h.8.crossattention.bias', 'h.0.crossattention.bias', 'h.8.crossattention.masked_bias', 'h.6.crossattention.c_proj.bias', 'h.5.crossattention.bias', 'h.1.crossattention.masked_bias', 'h.5.crossattention.q_attn.weight', 'h.6.crossattention.q_attn.weight', 'h.11.crossattention.c_proj.weight', 'h.1.crossattention.c_proj.weight', 'h.5.ln_cross_attn.weight', 'h.9.crossattention.masked_bias', 'h.4.crossattention.c_proj.bias', 'h.4.crossattention.c_attn.weight', 'h.3.ln_cross_attn.weight', 'h.9.crossattention.c_proj.bias', 'h.2.ln_cross_attn.weight', 'h.2.crossattention.c_attn.weight', 'h.3.crossattention.masked_bias', 'h.0.crossattention.q_attn.weight', 'h.1.crossattention.c_attn.weight', 'h.4.crossattention.q_attn.weight', 'h.4.crossattention.c_proj.weight', 'h.7.crossattention.c_attn.weight', 'h.10.ln_cross_attn.weight', 'h.9.crossattention.c_proj.weight', 'h.4.crossattention.bias', 'h.6.crossattention.c_proj.weight', 'h.1.crossattention.c_proj.bias', 'h.11.crossattention.c_proj.bias', 'h.10.crossattention.c_proj.weight', 'h.0.crossattention.c_proj.bias', 'h.11.ln_cross_attn.weight', 'h.3.crossattention.c_proj.bias', 'h.8.crossattention.c_proj.bias', 'h.0.crossattention.c_attn.weight', 'h.0.crossattention.masked_bias', 'h.7.crossattention.masked_bias', 'h.2.crossattention.q_attn.weight', 'h.8.crossattention.c_attn.weight', 'h.3.crossattention.c_attn.weight', 'h.2.crossattention.c_proj.bias', 'h.0.ln_cross_attn.weight', 'h.1.ln_cross_attn.weight', 'h.0.crossattention.c_proj.weight']\n",
            "You should probably TRAIN this model on a down-stream task to be able to use it for predictions and inference.\n"
          ]
        }
      ]
    },
    {
      "cell_type": "code",
      "metadata": {
        "colab": {
          "background_save": true
        },
        "id": "gKc1a6kUgien"
      },
      "source": [
        "class Caption(nn.Module):\n",
        "    \"\"\"\n",
        "    The caption model is created by\n",
        "        combining decoder and encoder\n",
        "    \"\"\"\n",
        "    def __init__(self, encoder: nn.Module, decoder: nn.Module):\n",
        "        \"\"\"\n",
        "        \n",
        "        - encoder: The encoder model that can extract image features\n",
        "        - decoder: The decoder model that can generate text sequence\n",
        "            - you have to set add_cross_attention\n",
        "                to True when instantiate the model\n",
        "        \"\"\"\n",
        "        super().__init__()\n",
        "        self.encoder_decoder = EncoderDecoderModel(\n",
        "            encoder=encoder,\n",
        "            decoder=decoder,)\n",
        "        \n",
        "        # update generate documentation\n",
        "        self.generate.__func__.__doc__ = f\"\"\"\n",
        "        Generate text with image:\n",
        "        - batch_img: a batch of image tensor\n",
        "        - other generate kwargs please see following\n",
        "        {self.encoder_decoder.decoder.generate.__doc__}\"\"\"\n",
        "        \n",
        "    def forward(self, inputs):\n",
        "        x, input_ids = inputs\n",
        "        # extract image feature with encoder\n",
        "        # the extracted feature we call them: encoder_outputs\n",
        "        encoder_outputs = self.encoder_decoder.encoder(x)\n",
        "        \n",
        "        # predict text sequence logits\n",
        "        # with the encoder_outputs\n",
        "        seq_out = self.encoder_decoder(\n",
        "            encoder_outputs=encoder_outputs,\n",
        "            # decoder_inputs is to help decoders learn better, \n",
        "            # decoder has mask that allow model to see\n",
        "            # only the previous text tokens and encoder feature\n",
        "            decoder_input_ids=input_ids,\n",
        "            labels=input_ids,\n",
        "            )\n",
        "        return seq_out\n",
        "    \n",
        "    def generate(self, batch_img, **generate_kwargs):\n",
        "        with torch.no_grad():\n",
        "            # extract image features first\n",
        "            encoder_outputs = self.encoder_decoder.encoder(pixel_values=batch_img)\n",
        "            return self.encoder_decoder.decoder.tokenizer.batch_decode(\n",
        "                # encoder_decoder has a 'generate' function we can use\n",
        "                self.encoder_decoder.generate(\n",
        "                    encoder_outputs=encoder_outputs,\n",
        "                    **generate_kwargs), )"
      ],
      "execution_count": null,
      "outputs": []
    },
    {
      "cell_type": "code",
      "metadata": {
        "colab": {
          "background_save": true
        },
        "id": "x54zmD6Lgxmn"
      },
      "source": [
        "def use_output_loss(output, label):\n",
        "    return output.loss"
      ],
      "execution_count": null,
      "outputs": []
    },
    {
      "cell_type": "code",
      "metadata": {
        "colab": {
          "background_save": true
        },
        "id": "9nZrmJuKg2sJ"
      },
      "source": [
        "def hf_accuracy(output, label):\n",
        "    return (output.logits.argmax(-1)==label).float().mean()"
      ],
      "execution_count": null,
      "outputs": []
    },
    {
      "cell_type": "code",
      "metadata": {
        "colab": {
          "background_save": true
        },
        "id": "UEqyg6zPhB44"
      },
      "source": [
        "model = Caption(encoder, decoder)"
      ],
      "execution_count": null,
      "outputs": []
    },
    {
      "cell_type": "code",
      "metadata": {
        "colab": {
          "background_save": true
        },
        "id": "VCLYp02zQ7Ij"
      },
      "source": [
        "learn = Learner(dls, model, loss_func=use_output_loss, metrics=[hf_accuracy], )"
      ],
      "execution_count": null,
      "outputs": []
    },
    {
      "cell_type": "code",
      "metadata": {
        "id": "LirMlEV9RCPt",
        "colab": {
          "base_uri": "https://localhost:8080/",
          "height": 211
        },
        "outputId": "6a92619e-8be8-4748-fd9d-f3c6ce6f83b4"
      },
      "source": [
        "learn.fit(1)"
      ],
      "execution_count": 40,
      "outputs": [
        {
          "data": {
            "text/html": [
              "\n",
              "    <div>\n",
              "        <style>\n",
              "            /* Turns off some styling */\n",
              "            progress {\n",
              "                /* gets rid of default border in Firefox and Opera. */\n",
              "                border: none;\n",
              "                /* Needs to be in here for Safari polyfill so background images work as expected. */\n",
              "                background-size: auto;\n",
              "            }\n",
              "            .progress-bar-interrupted, .progress-bar-interrupted::-webkit-progress-bar {\n",
              "                background: #F44336;\n",
              "            }\n",
              "        </style>\n",
              "      <progress value='0' class='' max='1' style='width:300px; height:20px; vertical-align: middle;'></progress>\n",
              "      0.00% [0/1 00:00<00:00]\n",
              "    </div>\n",
              "    \n",
              "<table border=\"1\" class=\"dataframe\">\n",
              "  <thead>\n",
              "    <tr style=\"text-align: left;\">\n",
              "      <th>epoch</th>\n",
              "      <th>train_loss</th>\n",
              "      <th>valid_loss</th>\n",
              "      <th>hf_accuracy</th>\n",
              "      <th>time</th>\n",
              "    </tr>\n",
              "  </thead>\n",
              "  <tbody>\n",
              "  </tbody>\n",
              "</table><p>\n",
              "\n",
              "    <div>\n",
              "        <style>\n",
              "            /* Turns off some styling */\n",
              "            progress {\n",
              "                /* gets rid of default border in Firefox and Opera. */\n",
              "                border: none;\n",
              "                /* Needs to be in here for Safari polyfill so background images work as expected. */\n",
              "                background-size: auto;\n",
              "            }\n",
              "            .progress-bar-interrupted, .progress-bar-interrupted::-webkit-progress-bar {\n",
              "                background: #F44336;\n",
              "            }\n",
              "        </style>\n",
              "      <progress value='48' class='' max='2025' style='width:300px; height:20px; vertical-align: middle;'></progress>\n",
              "      2.37% [48/2025 01:21<55:56 0.4300]\n",
              "    </div>\n",
              "    "
            ],
            "text/plain": [
              "<IPython.core.display.HTML object>"
            ]
          },
          "metadata": {},
          "output_type": "display_data"
        },
        {
          "metadata": {
            "tags": null
          },
          "name": "stderr",
          "output_type": "stream",
          "text": [
            "/usr/local/lib/python3.7/dist-packages/transformers/models/encoder_decoder/modeling_encoder_decoder.py:490: FutureWarning: Version v4.12.0 introduces a better way to train encoder-decoder models by computing the loss inside the encoder-decoder framework rather than in the decoder itself. You may observe training discrepancies if fine-tuning a model trained with versions anterior to 4.12.0. The decoder_input_ids are now created based on the labels, no need to pass them yourself anymore.\n",
            "  warnings.warn(DEPRECATION_WARNING, FutureWarning)\n"
          ]
        },
        {
          "output_type": "display_data",
          "data": {
            "text/html": [
              "<table border=\"1\" class=\"dataframe\">\n",
              "  <thead>\n",
              "    <tr style=\"text-align: left;\">\n",
              "      <th>epoch</th>\n",
              "      <th>train_loss</th>\n",
              "      <th>valid_loss</th>\n",
              "      <th>hf_accuracy</th>\n",
              "      <th>time</th>\n",
              "    </tr>\n",
              "  </thead>\n",
              "  <tbody>\n",
              "    <tr>\n",
              "      <td>0</td>\n",
              "      <td>0.000709</td>\n",
              "      <td>0.001949</td>\n",
              "      <td>0.999641</td>\n",
              "      <td>1:01:32</td>\n",
              "    </tr>\n",
              "  </tbody>\n",
              "</table>"
            ],
            "text/plain": [
              "<IPython.core.display.HTML object>"
            ]
          },
          "metadata": {}
        }
      ]
    },
    {
      "cell_type": "code",
      "metadata": {
        "colab": {
          "base_uri": "https://localhost:8080/",
          "height": 273
        },
        "id": "QEQgsoH_Ff06",
        "outputId": "d772b46f-3522-49dd-add1-9de82fe9774f"
      },
      "source": [
        "learn.fit(2)"
      ],
      "execution_count": 42,
      "outputs": [
        {
          "data": {
            "text/html": [
              "\n",
              "    <div>\n",
              "        <style>\n",
              "            /* Turns off some styling */\n",
              "            progress {\n",
              "                /* gets rid of default border in Firefox and Opera. */\n",
              "                border: none;\n",
              "                /* Needs to be in here for Safari polyfill so background images work as expected. */\n",
              "                background-size: auto;\n",
              "            }\n",
              "            .progress-bar-interrupted, .progress-bar-interrupted::-webkit-progress-bar {\n",
              "                background: #F44336;\n",
              "            }\n",
              "        </style>\n",
              "      <progress value='1' class='' max='2' style='width:300px; height:20px; vertical-align: middle;'></progress>\n",
              "      50.00% [1/2 1:01:21<1:01:21]\n",
              "    </div>\n",
              "    \n",
              "<table border=\"1\" class=\"dataframe\">\n",
              "  <thead>\n",
              "    <tr style=\"text-align: left;\">\n",
              "      <th>epoch</th>\n",
              "      <th>train_loss</th>\n",
              "      <th>valid_loss</th>\n",
              "      <th>hf_accuracy</th>\n",
              "      <th>time</th>\n",
              "    </tr>\n",
              "  </thead>\n",
              "  <tbody>\n",
              "    <tr>\n",
              "      <td>0</td>\n",
              "      <td>0.001859</td>\n",
              "      <td>0.000988</td>\n",
              "      <td>0.999772</td>\n",
              "      <td>1:01:21</td>\n",
              "    </tr>\n",
              "  </tbody>\n",
              "</table><p>\n",
              "\n",
              "    <div>\n",
              "        <style>\n",
              "            /* Turns off some styling */\n",
              "            progress {\n",
              "                /* gets rid of default border in Firefox and Opera. */\n",
              "                border: none;\n",
              "                /* Needs to be in here for Safari polyfill so background images work as expected. */\n",
              "                background-size: auto;\n",
              "            }\n",
              "            .progress-bar-interrupted, .progress-bar-interrupted::-webkit-progress-bar {\n",
              "                background: #F44336;\n",
              "            }\n",
              "        </style>\n",
              "      <progress value='1330' class='' max='2025' style='width:300px; height:20px; vertical-align: middle;'></progress>\n",
              "      65.68% [1330/2025 37:11<19:26 0.0005]\n",
              "    </div>\n",
              "    "
            ],
            "text/plain": [
              "<IPython.core.display.HTML object>"
            ]
          },
          "metadata": {},
          "output_type": "display_data"
        },
        {
          "metadata": {
            "tags": null
          },
          "name": "stderr",
          "output_type": "stream",
          "text": [
            "/usr/local/lib/python3.7/dist-packages/transformers/models/encoder_decoder/modeling_encoder_decoder.py:490: FutureWarning: Version v4.12.0 introduces a better way to train encoder-decoder models by computing the loss inside the encoder-decoder framework rather than in the decoder itself. You may observe training discrepancies if fine-tuning a model trained with versions anterior to 4.12.0. The decoder_input_ids are now created based on the labels, no need to pass them yourself anymore.\n",
            "  warnings.warn(DEPRECATION_WARNING, FutureWarning)\n"
          ]
        },
        {
          "output_type": "display_data",
          "data": {
            "text/html": [
              "<table border=\"1\" class=\"dataframe\">\n",
              "  <thead>\n",
              "    <tr style=\"text-align: left;\">\n",
              "      <th>epoch</th>\n",
              "      <th>train_loss</th>\n",
              "      <th>valid_loss</th>\n",
              "      <th>hf_accuracy</th>\n",
              "      <th>time</th>\n",
              "    </tr>\n",
              "  </thead>\n",
              "  <tbody>\n",
              "    <tr>\n",
              "      <td>0</td>\n",
              "      <td>0.001859</td>\n",
              "      <td>0.000988</td>\n",
              "      <td>0.999772</td>\n",
              "      <td>1:01:21</td>\n",
              "    </tr>\n",
              "    <tr>\n",
              "      <td>1</td>\n",
              "      <td>0.000603</td>\n",
              "      <td>0.000694</td>\n",
              "      <td>0.999838</td>\n",
              "      <td>1:01:24</td>\n",
              "    </tr>\n",
              "  </tbody>\n",
              "</table>"
            ],
            "text/plain": [
              "<IPython.core.display.HTML object>"
            ]
          },
          "metadata": {}
        }
      ]
    },
    {
      "cell_type": "code",
      "metadata": {
        "id": "PE_aPAx3hptp"
      },
      "source": [
        "encoder = encoder.eval()"
      ],
      "execution_count": 46,
      "outputs": []
    },
    {
      "cell_type": "code",
      "metadata": {
        "colab": {
          "base_uri": "https://localhost:8080/",
          "height": 35
        },
        "id": "6e_kuSyTh6TM",
        "outputId": "1e4061a5-5bc2-44c6-e7be-0386d675946f"
      },
      "source": [
        "model.generate(batch_img[:2,...],\n",
        "               top_p=.6, do_sample=True, # text generation startegy\n",
        "               bos_token_id=tokenizer.vocab[':'],)[0].replace(\"<|endoftext|>\",\"\")"
      ],
      "execution_count": 54,
      "outputs": [
        {
          "output_type": "execute_result",
          "data": {
            "application/vnd.google.colaboratory.intrinsic+json": {
              "type": "string"
            },
            "text/plain": [
              "'::::::::::::::::::::'"
            ]
          },
          "metadata": {},
          "execution_count": 54
        }
      ]
    },
    {
      "cell_type": "code",
      "metadata": {
        "colab": {
          "base_uri": "https://localhost:8080/",
          "height": 35
        },
        "id": "mtZ4SUd_iRii",
        "outputId": "cd71d772-aa44-440c-ad09-33103329f9a8"
      },
      "source": [
        "tokenizer.batch_decode(batch_txt)[0].replace(\"<|endoftext|>\",\"\")"
      ],
      "execution_count": 55,
      "outputs": [
        {
          "output_type": "execute_result",
          "data": {
            "application/vnd.google.colaboratory.intrinsic+json": {
              "type": "string"
            },
            "text/plain": [
              "': Man in red and white uniform pitching a baseball.'"
            ]
          },
          "metadata": {},
          "execution_count": 55
        }
      ]
    },
    {
      "cell_type": "code",
      "metadata": {
        "colab": {
          "base_uri": "https://localhost:8080/",
          "height": 337
        },
        "id": "x6E_d4M-iYwf",
        "outputId": "688f5fb7-951a-4468-8637-364bd9890988"
      },
      "source": [
        "batch_img[0,...].show()"
      ],
      "execution_count": 53,
      "outputs": [
        {
          "output_type": "stream",
          "name": "stderr",
          "text": [
            "Clipping input data to the valid range for imshow with RGB data ([0..1] for floats or [0..255] for integers).\n"
          ]
        },
        {
          "output_type": "execute_result",
          "data": {
            "text/plain": [
              "<matplotlib.axes._subplots.AxesSubplot at 0x7f7c38751910>"
            ]
          },
          "metadata": {},
          "execution_count": 53
        },
        {
          "output_type": "display_data",
          "data": {
            "image/png": "[encoded data removed]",
            "text/plain": [
              "<Figure size 360x360 with 1 Axes>"
            ]
          },
          "metadata": {
            "needs_background": "light"
          }
        }
      ]
    }
  ]
}